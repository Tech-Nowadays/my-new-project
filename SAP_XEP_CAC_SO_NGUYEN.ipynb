{
 "cells": [
  {
   "cell_type": "code",
   "execution_count": null,
   "id": "16e7fdc6",
   "metadata": {},
   "outputs": [],
   "source": [
    "my_list = []\n",
    "def nhap_so_nguyen():\n",
    "    for i in range(3):\n",
    "        my_list.append(int(input(f'Nhập số nguyên thứ {i+1}: ')))\n",
    "\n",
    "nhap_so_nguyen()\n",
    "print(my_list)\n",
    "my_list.sort()\n",
    "print('List số nguyên sau khi sắp xếp tăng dần: ',my_list)"
   ]
  }
 ],
 "metadata": {
  "kernelspec": {
   "display_name": "Python 3",
   "language": "python",
   "name": "python3"
  },
  "language_info": {
   "codemirror_mode": {
    "name": "ipython",
    "version": 3
   },
   "file_extension": ".py",
   "mimetype": "text/x-python",
   "name": "python",
   "nbconvert_exporter": "python",
   "pygments_lexer": "ipython3",
   "version": "3.8.8"
  }
 },
 "nbformat": 4,
 "nbformat_minor": 5
}
