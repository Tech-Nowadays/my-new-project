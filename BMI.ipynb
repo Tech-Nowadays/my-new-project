{
 "cells": [
  {
   "cell_type": "code",
   "execution_count": null,
   "id": "978209c0",
   "metadata": {},
   "outputs": [],
   "source": [
    "Weight = float(input(\"Enter your weight Kg???: \"))\n",
    "Height = float(input(\"Enter your height Meter???: \"))\n",
    "BMI = float(Weight / (Height * 2))\n",
    "if BMI > 40: print(\"Beo Phi cap do III\")\n",
    "elif 35 <= BMI < 40: print(\"Beo Phi cap do II\")\n",
    "elif 30 <= BMI < 35: print(\"Beo Phi cap do I\")\n",
    "elif 25 <= BMI < 30: print(\"Thua can\")\n",
    "elif 18.5 <= BMI < 25: print(\"Binh thuong\")\n",
    "elif 17 <= BMI < 18.5: print(\"Gay cap do I\")\n",
    "elif 16 <= BMI < 17: print(\"Gay cap do II\")\n",
    "else: print(\"Gay cap do III\")"
   ]
  }
 ],
 "metadata": {
  "kernelspec": {
   "display_name": "Python 3",
   "language": "python",
   "name": "python3"
  },
  "language_info": {
   "codemirror_mode": {
    "name": "ipython",
    "version": 3
   },
   "file_extension": ".py",
   "mimetype": "text/x-python",
   "name": "python",
   "nbconvert_exporter": "python",
   "pygments_lexer": "ipython3",
   "version": "3.8.8"
  }
 },
 "nbformat": 4,
 "nbformat_minor": 5
}
