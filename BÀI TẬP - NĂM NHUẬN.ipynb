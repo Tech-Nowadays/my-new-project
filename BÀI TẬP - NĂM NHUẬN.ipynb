{
 "cells": [
  {
   "cell_type": "code",
   "execution_count": 1,
   "id": "e4e2066f",
   "metadata": {},
   "outputs": [
    {
     "name": "stdout",
     "output_type": "stream",
     "text": [
      "Nhập số năm: 1800\n",
      "Không phải năm nhuận\n"
     ]
    }
   ],
   "source": [
    "n = int(input('Nhập số năm: '))\n",
    "if n % 400 == 0:\n",
    "    print('Năm nhuận')\n",
    "else:\n",
    "    print('Không phải năm nhuận')"
   ]
  },
  {
   "cell_type": "code",
   "execution_count": null,
   "id": "2dbdb280",
   "metadata": {},
   "outputs": [],
   "source": []
  }
 ],
 "metadata": {
  "kernelspec": {
   "display_name": "Python 3",
   "language": "python",
   "name": "python3"
  },
  "language_info": {
   "codemirror_mode": {
    "name": "ipython",
    "version": 3
   },
   "file_extension": ".py",
   "mimetype": "text/x-python",
   "name": "python",
   "nbconvert_exporter": "python",
   "pygments_lexer": "ipython3",
   "version": "3.8.8"
  }
 },
 "nbformat": 4,
 "nbformat_minor": 5
}
