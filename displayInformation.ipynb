{
 "cells": [
  {
   "cell_type": "code",
   "execution_count": 3,
   "id": "ed969fbd",
   "metadata": {},
   "outputs": [
    {
     "name": "stdout",
     "output_type": "stream",
     "text": [
      "Full Name: Nguyen Thi Ngoc Mai\n",
      "Birthday:22/06/1990\n",
      "Address: Da Nang city\n",
      "Purpose to learn Python: curiousty trending improvement\n"
     ]
    }
   ],
   "source": [
    "print (\"Full Name: Nguyen Thi Ngoc Mai\")\n",
    "print (\"Birthday:22/06/1990\")\n",
    "print (\"Address: Da Nang city\")\n",
    "print (\"Purpose to learn Python: curiousty trending improvement\")"
   ]
  },
  {
   "cell_type": "code",
   "execution_count": null,
   "id": "b7e9606a",
   "metadata": {},
   "outputs": [],
   "source": []
  }
 ],
 "metadata": {
  "kernelspec": {
   "display_name": "Python 3",
   "language": "python",
   "name": "python3"
  },
  "language_info": {
   "codemirror_mode": {
    "name": "ipython",
    "version": 3
   },
   "file_extension": ".py",
   "mimetype": "text/x-python",
   "name": "python",
   "nbconvert_exporter": "python",
   "pygments_lexer": "ipython3",
   "version": "3.8.8"
  }
 },
 "nbformat": 4,
 "nbformat_minor": 5
}
