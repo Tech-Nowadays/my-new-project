{
 "cells": [
  {
   "cell_type": "code",
   "execution_count": 2,
   "id": "dff76153",
   "metadata": {},
   "outputs": [
    {
     "name": "stdout",
     "output_type": "stream",
     "text": [
      "Nhập tỉ giá USD/VND: 23000\n",
      "Nhập số tiền USD cần đổi: 3\n",
      "Số tiền 3 USD sau khi đổi theo tỉ giá USD/VND 23000.0 là 69000.0 VND\n"
     ]
    }
   ],
   "source": [
    "Rate = float(input('Nhập tỉ giá USD/VND: '))\n",
    "USD = int(input('Nhập số tiền USD cần đổi: '))\n",
    "VND = USD * Rate\n",
    "print('Số tiền {USD} USD sau khi đổi theo tỉ giá USD/VND {Rate} là {VND} VND'.format(USD=USD,Rate=Rate,VND=VND))"
   ]
  },
  {
   "cell_type": "code",
   "execution_count": null,
   "id": "653eac4d",
   "metadata": {},
   "outputs": [],
   "source": []
  }
 ],
 "metadata": {
  "kernelspec": {
   "display_name": "Python 3",
   "language": "python",
   "name": "python3"
  },
  "language_info": {
   "codemirror_mode": {
    "name": "ipython",
    "version": 3
   },
   "file_extension": ".py",
   "mimetype": "text/x-python",
   "name": "python",
   "nbconvert_exporter": "python",
   "pygments_lexer": "ipython3",
   "version": "3.8.8"
  }
 },
 "nbformat": 4,
 "nbformat_minor": 5
}
